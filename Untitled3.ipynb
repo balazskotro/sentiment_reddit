{
 "cells": [
  {
   "cell_type": "code",
   "execution_count": 1,
   "metadata": {},
   "outputs": [],
   "source": [
    "# praw is the package for reddit api\n",
    "import praw\n",
    "\n",
    "#set up credential's. utilizes my own reddit account (used for this purpose only)\n",
    "reddit = praw.Reddit(client_id='MzlMm6UJqpw6xw', \n",
    "                     client_secret='YfQUmEnmOyDVaa59keB1o4IoLxZFww', \n",
    "                     user_agent='rdt_webscapping')"
   ]
  },
  {
   "cell_type": "code",
   "execution_count": 22,
   "metadata": {},
   "outputs": [],
   "source": [
    "#submission is the post itself\n",
    "\n",
    "submission = reddit.submission(\n",
    "    url=\"https://www.reddit.com/r/wallstreetbets/comments/mrcp5k/gme_megathread_for_april_15_2021/\")"
   ]
  },
  {
   "cell_type": "code",
   "execution_count": 16,
   "metadata": {},
   "outputs": [
    {
     "data": {
      "text/plain": [
       "[]"
      ]
     },
     "execution_count": 16,
     "metadata": {},
     "output_type": "execute_result"
    }
   ],
   "source": [
    "submission.comments.replace_more(limit=None)"
   ]
  },
  {
   "cell_type": "code",
   "execution_count": 4,
   "metadata": {},
   "outputs": [],
   "source": [
    "#submission.comments.replace_more(limit=None)\n",
    "#for comment in submission.comments.list():\n",
    "#    print(comment.author.post_karma)\n"
   ]
  },
  {
   "cell_type": "code",
   "execution_count": 27,
   "metadata": {},
   "outputs": [
    {
     "data": {
      "text/html": [
       "<div>\n",
       "<style scoped>\n",
       "    .dataframe tbody tr th:only-of-type {\n",
       "        vertical-align: middle;\n",
       "    }\n",
       "\n",
       "    .dataframe tbody tr th {\n",
       "        vertical-align: top;\n",
       "    }\n",
       "\n",
       "    .dataframe thead th {\n",
       "        text-align: right;\n",
       "    }\n",
       "</style>\n",
       "<table border=\"1\" class=\"dataframe\">\n",
       "  <thead>\n",
       "    <tr style=\"text-align: right;\">\n",
       "      <th></th>\n",
       "      <th>Epoch</th>\n",
       "      <th>Dates</th>\n",
       "      <th>Body</th>\n",
       "      <th>Author</th>\n",
       "      <th>Comment Karma</th>\n",
       "      <th>Link Karma</th>\n",
       "      <th>Score</th>\n",
       "    </tr>\n",
       "  </thead>\n",
       "  <tbody>\n",
       "    <tr>\n",
       "      <td>0</td>\n",
       "      <td></td>\n",
       "      <td>1.618537e+09</td>\n",
       "      <td>No, No, No, No, let me ask you a question. Whe...</td>\n",
       "      <td>OPINION_IS_UNPOPULAR</td>\n",
       "      <td>166888</td>\n",
       "      <td>566786</td>\n",
       "      <td>1</td>\n",
       "    </tr>\n",
       "    <tr>\n",
       "      <td>1</td>\n",
       "      <td></td>\n",
       "      <td>1.618488e+09</td>\n",
       "      <td>My wife stayed with me last night! Bullish.</td>\n",
       "      <td>ManTheDan97</td>\n",
       "      <td>2330</td>\n",
       "      <td>1048</td>\n",
       "      <td>441</td>\n",
       "    </tr>\n",
       "    <tr>\n",
       "      <td>2</td>\n",
       "      <td></td>\n",
       "      <td>1.618488e+09</td>\n",
       "      <td>You know if you say today is the day we moon e...</td>\n",
       "      <td>SomePlastic</td>\n",
       "      <td>13741</td>\n",
       "      <td>7887</td>\n",
       "      <td>1008</td>\n",
       "    </tr>\n",
       "    <tr>\n",
       "      <td>3</td>\n",
       "      <td></td>\n",
       "      <td>1.618488e+09</td>\n",
       "      <td>DFV https://twitter.com/theroaringkitty/status...</td>\n",
       "      <td>RainAlwaysComes</td>\n",
       "      <td>1729</td>\n",
       "      <td>2553</td>\n",
       "      <td>191</td>\n",
       "    </tr>\n",
       "    <tr>\n",
       "      <td>4</td>\n",
       "      <td></td>\n",
       "      <td>1.618503e+09</td>\n",
       "      <td>I just realized it’s Ape-ril</td>\n",
       "      <td>Max_Stoned</td>\n",
       "      <td>18748</td>\n",
       "      <td>1028319</td>\n",
       "      <td>200</td>\n",
       "    </tr>\n",
       "    <tr>\n",
       "      <td>...</td>\n",
       "      <td>...</td>\n",
       "      <td>...</td>\n",
       "      <td>...</td>\n",
       "      <td>...</td>\n",
       "      <td>...</td>\n",
       "      <td>...</td>\n",
       "      <td>...</td>\n",
       "    </tr>\n",
       "    <tr>\n",
       "      <td>23553</td>\n",
       "      <td></td>\n",
       "      <td>1.618496e+09</td>\n",
       "      <td>That's sad that you think that the grammar the...</td>\n",
       "      <td>consultinglove</td>\n",
       "      <td>16393</td>\n",
       "      <td>4287</td>\n",
       "      <td>1</td>\n",
       "    </tr>\n",
       "    <tr>\n",
       "      <td>23554</td>\n",
       "      <td></td>\n",
       "      <td>1.618496e+09</td>\n",
       "      <td>“A person with a low IQ” would of been a bette...</td>\n",
       "      <td>No_Wrangler93</td>\n",
       "      <td>1681</td>\n",
       "      <td>41</td>\n",
       "      <td>1</td>\n",
       "    </tr>\n",
       "    <tr>\n",
       "      <td>23555</td>\n",
       "      <td></td>\n",
       "      <td>1.618496e+09</td>\n",
       "      <td>You thought the grammar there was wrong. Eithe...</td>\n",
       "      <td>consultinglove</td>\n",
       "      <td>16393</td>\n",
       "      <td>4287</td>\n",
       "      <td>1</td>\n",
       "    </tr>\n",
       "    <tr>\n",
       "      <td>23556</td>\n",
       "      <td></td>\n",
       "      <td>1.618496e+09</td>\n",
       "      <td>Cool, go back to GME meltdown. You’re boring m...</td>\n",
       "      <td>No_Wrangler93</td>\n",
       "      <td>1681</td>\n",
       "      <td>41</td>\n",
       "      <td>1</td>\n",
       "    </tr>\n",
       "    <tr>\n",
       "      <td>23557</td>\n",
       "      <td></td>\n",
       "      <td>1.618497e+09</td>\n",
       "      <td>Yeah you’ve already said that. Did you forget?</td>\n",
       "      <td>No_Wrangler93</td>\n",
       "      <td>1681</td>\n",
       "      <td>41</td>\n",
       "      <td>2</td>\n",
       "    </tr>\n",
       "  </tbody>\n",
       "</table>\n",
       "<p>23558 rows × 7 columns</p>\n",
       "</div>"
      ],
      "text/plain": [
       "      Epoch         Dates                                               Body  \\\n",
       "0            1.618537e+09  No, No, No, No, let me ask you a question. Whe...   \n",
       "1            1.618488e+09        My wife stayed with me last night! Bullish.   \n",
       "2            1.618488e+09  You know if you say today is the day we moon e...   \n",
       "3            1.618488e+09  DFV https://twitter.com/theroaringkitty/status...   \n",
       "4            1.618503e+09                       I just realized it’s Ape-ril   \n",
       "...     ...           ...                                                ...   \n",
       "23553        1.618496e+09  That's sad that you think that the grammar the...   \n",
       "23554        1.618496e+09  “A person with a low IQ” would of been a bette...   \n",
       "23555        1.618496e+09  You thought the grammar there was wrong. Eithe...   \n",
       "23556        1.618496e+09  Cool, go back to GME meltdown. You’re boring m...   \n",
       "23557        1.618497e+09     Yeah you’ve already said that. Did you forget?   \n",
       "\n",
       "                     Author  Comment Karma  Link Karma  Score  \n",
       "0      OPINION_IS_UNPOPULAR         166888      566786      1  \n",
       "1               ManTheDan97           2330        1048    441  \n",
       "2               SomePlastic          13741        7887   1008  \n",
       "3           RainAlwaysComes           1729        2553    191  \n",
       "4                Max_Stoned          18748     1028319    200  \n",
       "...                     ...            ...         ...    ...  \n",
       "23553        consultinglove          16393        4287      1  \n",
       "23554         No_Wrangler93           1681          41      1  \n",
       "23555        consultinglove          16393        4287      1  \n",
       "23556         No_Wrangler93           1681          41      1  \n",
       "23557         No_Wrangler93           1681          41      2  \n",
       "\n",
       "[23558 rows x 7 columns]"
      ]
     },
     "execution_count": 27,
     "metadata": {},
     "output_type": "execute_result"
    }
   ],
   "source": [
    "import pandas as pd\n",
    "\n",
    "reddit_comments = []\n",
    "\n",
    "submission.comments.replace_more(limit=None)\n",
    "comments = submission.comments.list()\n",
    "for comment in comments:\n",
    "    try:\n",
    "        reddit_comments.append(['',\n",
    "                             comment.created_utc,\n",
    "                             comment.body,\n",
    "                             comment.author,\n",
    "                             comment.author.comment_karma,\n",
    "                             comment.author.link_karma,    \n",
    "                             comment.score])\n",
    "    except:\n",
    "        pass\n",
    "        \n",
    "reddit_comments = pd.DataFrame(reddit_comments, \n",
    "             columns=['Epoch','Dates', 'Body', 'Author', 'Comment Karma', 'Link Karma', 'Score'])\n",
    "reddit_comments"
   ]
  },
  {
   "cell_type": "code",
   "execution_count": 28,
   "metadata": {},
   "outputs": [],
   "source": [
    "import emoji\n",
    "reddit_comments['Body'] = reddit_comments['Body'].apply(emoji.demojize)\n",
    "reddit_comments['Body'] = reddit_comments['Body'].replace('\\s+', ' ', regex=True)\n",
    "reddit_comments['Body'] = reddit_comments['Body'].replace('\\n+', ' ', regex=True)"
   ]
  },
  {
   "cell_type": "code",
   "execution_count": 29,
   "metadata": {},
   "outputs": [],
   "source": [
    "reddit_comments.to_csv(\"comm5.csv\", header=True, index=False, sep='\\t', mode='a')"
   ]
  },
  {
   "cell_type": "code",
   "execution_count": 8,
   "metadata": {},
   "outputs": [],
   "source": [
    "#import numpy as np\n",
    "#np.savetxt('out.txt', bitcoin_comments.values, fmt='%d %d %d %d %d %d',unicode-escape')"
   ]
  },
  {
   "cell_type": "code",
   "execution_count": 9,
   "metadata": {},
   "outputs": [],
   "source": [
    "#np.savetxt('xgboost.txt', a.values, fmt='%d', delimiter=\"\\t\", header=\"X\\tY\\tZ\\tValue\")  "
   ]
  },
  {
   "cell_type": "code",
   "execution_count": 10,
   "metadata": {},
   "outputs": [],
   "source": [
    "#bitcoin_comments.to_csv('C:\\\\Users\\\\BALAZS\\\\Desktop\\\\test1.txt', header=True, index=False, sep='\\t', mode='a')"
   ]
  },
  {
   "cell_type": "code",
   "execution_count": 11,
   "metadata": {},
   "outputs": [],
   "source": [
    "#bitcoin_comments['Body'] = bitcoin_comments['Body'].str.encode('utf-8')"
   ]
  },
  {
   "cell_type": "code",
   "execution_count": 12,
   "metadata": {},
   "outputs": [],
   "source": [
    "#reddit_comments.to_csv(\"comm3.csv\", header=True, index=False, sep='\\t', mode='a')"
   ]
  },
  {
   "cell_type": "code",
   "execution_count": 13,
   "metadata": {},
   "outputs": [],
   "source": [
    "#with pd.option_context('display.max_rows', None, 'display.max_columns', None):  # more options can be specified also\n",
    "#    print(emoji.demojize(str(reddit_comments.Score)))\n"
   ]
  },
  {
   "cell_type": "code",
   "execution_count": 14,
   "metadata": {},
   "outputs": [],
   "source": [
    "#import os\n",
    "#os.getcwd()"
   ]
  },
  {
   "cell_type": "code",
   "execution_count": 15,
   "metadata": {},
   "outputs": [],
   "source": [
    "#with pd.option_context('display.max_rows', None, 'display.max_columns', None):  # more options can be specified also\n",
    "    #print(reddit_comments)\n"
   ]
  },
  {
   "cell_type": "code",
   "execution_count": 26,
   "metadata": {},
   "outputs": [
    {
     "data": {
      "text/plain": [
       "[]"
      ]
     },
     "execution_count": 26,
     "metadata": {},
     "output_type": "execute_result"
    }
   ],
   "source": [
    "reddit_comments"
   ]
  },
  {
   "cell_type": "code",
   "execution_count": null,
   "metadata": {},
   "outputs": [],
   "source": []
  },
  {
   "cell_type": "code",
   "execution_count": null,
   "metadata": {},
   "outputs": [],
   "source": []
  }
 ],
 "metadata": {
  "kernelspec": {
   "display_name": "Python 3",
   "language": "python",
   "name": "python3"
  },
  "language_info": {
   "codemirror_mode": {
    "name": "ipython",
    "version": 3
   },
   "file_extension": ".py",
   "mimetype": "text/x-python",
   "name": "python",
   "nbconvert_exporter": "python",
   "pygments_lexer": "ipython3",
   "version": "3.7.3"
  }
 },
 "nbformat": 4,
 "nbformat_minor": 4
}
